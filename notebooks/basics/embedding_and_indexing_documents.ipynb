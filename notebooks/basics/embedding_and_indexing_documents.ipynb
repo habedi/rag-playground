{
 "cells": [
  {
   "cell_type": "markdown",
   "source": [
    "# Description\n",
    "\n",
    "This notebook demonstrates how to use the [OpenAI API](https://platform.openai.com) to embed documents and index them in a [Qdrant vector database](https://qdrant.tech/) and perform a similairty search on the indexed documents."
   ],
   "metadata": {
    "collapsed": false
   },
   "id": "3e642b6aef1cc124"
  },
  {
   "cell_type": "markdown",
   "source": [
    "# Importing Libraries"
   ],
   "metadata": {
    "collapsed": false
   },
   "id": "df1fda966199e230"
  },
  {
   "cell_type": "code",
   "id": "initial_id",
   "metadata": {
    "collapsed": true,
    "ExecuteTime": {
     "end_time": "2024-04-13T04:42:51.581337Z",
     "start_time": "2024-04-13T04:42:50.312747Z"
    }
   },
   "source": [
    "import os\n",
    "import openai\n",
    "import qdrant_client\n",
    "\n",
    "from pathlib import Path"
   ],
   "outputs": [],
   "execution_count": 1
  },
  {
   "cell_type": "code",
   "source": [
    "from qdrant_client.http.models import PointStruct\n",
    "from qdrant_client.http.models import VectorParams, Distance"
   ],
   "metadata": {
    "collapsed": false,
    "ExecuteTime": {
     "end_time": "2024-04-13T04:42:51.584425Z",
     "start_time": "2024-04-13T04:42:51.582533Z"
    }
   },
   "id": "bb0fb0739309d3a2",
   "outputs": [],
   "execution_count": 2
  },
  {
   "cell_type": "markdown",
   "source": [
    "# Global Variables\n",
    "\n",
    "We will define a few global variables here:\n",
    "\n",
    "- `BASE_DATA_DIR`: The base directory where the data is stored.\n",
    "- `EMBEDDING_MODEL`: The OpenAI embedding model to use for embedding the documents.\n",
    "- `COLLECTION_NAME`: The name of the Qdrant collection to store the documents.\n",
    "- `OPENAI_SECRET_KEY_FILE`: The path to a JSON file containing the OpenAI secret key.\n",
    "- `MAX_DOCUMENTS_TO_LOAD`: The maximum number of documents to load from the dataset."
   ],
   "metadata": {
    "collapsed": false
   },
   "id": "32ff4d631d61e93b"
  },
  {
   "cell_type": "code",
   "source": [
    "BASE_DATA_DIR = Path('../../data')\n",
    "EMBEDDING_MODEL = 'text-embedding-3-small'\n",
    "COLLECTION_NAME = \"my_document_collection\"\n",
    "OPENAI_SECRET_KEY_FILE = \"../../secrets/openai_api_key.json\"\n",
    "MAX_DOCUMENTS_TO_LOAD = 100"
   ],
   "metadata": {
    "collapsed": false,
    "ExecuteTime": {
     "end_time": "2024-04-13T04:42:51.587676Z",
     "start_time": "2024-04-13T04:42:51.584965Z"
    }
   },
   "id": "d2706e0d2334595e",
   "outputs": [],
   "execution_count": 3
  },
  {
   "cell_type": "code",
   "source": [
    "# Check if the OpenAI client is already loaded or not to avoid re-loading it\n",
    "try:\n",
    "    openai_client\n",
    "except NameError:\n",
    "    openai_client = None"
   ],
   "metadata": {
    "collapsed": false,
    "ExecuteTime": {
     "end_time": "2024-04-13T04:42:51.589705Z",
     "start_time": "2024-04-13T04:42:51.588237Z"
    }
   },
   "id": "89f4d6f375ca7d55",
   "outputs": [],
   "execution_count": 4
  },
  {
   "cell_type": "markdown",
   "source": [
    "# Helper Functions\n",
    "\n",
    "We will import the helper functions to load the data, get the OpenAI secret key, and embed the documents.\n",
    "The helper functions are defined in the `src/helper_functions.py` file."
   ],
   "metadata": {
    "collapsed": false
   },
   "id": "84333f4bde905f1b"
  },
  {
   "cell_type": "code",
   "source": [
    "from src.helper_functions import load_data, get_openai_api_key, embed_documents"
   ],
   "metadata": {
    "collapsed": false,
    "ExecuteTime": {
     "end_time": "2024-04-13T04:42:51.698968Z",
     "start_time": "2024-04-13T04:42:51.590589Z"
    }
   },
   "id": "d14c24ea6830acf5",
   "outputs": [],
   "execution_count": 5
  },
  {
   "cell_type": "markdown",
   "source": [
    "# Loading the OpenAI secret key and Creating an In-Memory Qdrant Database\n",
    "\n",
    "We will load the OpenAI secret key from the `secrets/openai_api_key.json` file and create an in-memory Qdrant database to index the documents."
   ],
   "metadata": {
    "collapsed": false
   },
   "id": "28ba0812644e84d"
  },
  {
   "cell_type": "code",
   "source": [
    "# Loading the OpenAI secret key if it is not loaded already\n",
    "if openai_client is None:\n",
    "    openai_client = openai.Client(\n",
    "        api_key=get_openai_api_key(OPENAI_SECRET_KEY_FILE),\n",
    "    )"
   ],
   "metadata": {
    "collapsed": false,
    "ExecuteTime": {
     "end_time": "2024-04-13T04:42:51.719397Z",
     "start_time": "2024-04-13T04:42:51.699976Z"
    }
   },
   "id": "9d2c8e83a4e54220",
   "outputs": [],
   "execution_count": 6
  },
  {
   "cell_type": "code",
   "source": [
    "# Creating an in-memory Qdrant database instance\n",
    "qdrant_client = qdrant_client.QdrantClient(\":memory:\")"
   ],
   "metadata": {
    "collapsed": false,
    "ExecuteTime": {
     "end_time": "2024-04-13T04:42:51.721944Z",
     "start_time": "2024-04-13T04:42:51.720237Z"
    }
   },
   "id": "4cd59b5587894359",
   "outputs": [],
   "execution_count": 7
  },
  {
   "cell_type": "markdown",
   "source": [
    "# Loading the Documents\n",
    "\n",
    "We will use the [feedback-prize-2021](https://www.kaggle.com/competitions/feedback-prize-2021/data) dataset from Kaggle as an example. To download the dataset, you can use the following command in the root directory of the project:\n",
    "\n",
    "`bash bin/download_kaggle_dataset.sh \"competition\" \"feedback-prize-2021\" \"data/input/kaggle_competitions/fp1\"`"
   ],
   "metadata": {
    "collapsed": false
   },
   "id": "27b4384fe30f92a5"
  },
  {
   "cell_type": "code",
   "source": "data = load_data(BASE_DATA_DIR / 'input/kaggle_competitions/fp1/train')[:MAX_DOCUMENTS_TO_LOAD]",
   "metadata": {
    "collapsed": false,
    "ExecuteTime": {
     "end_time": "2024-04-13T04:42:51.908398Z",
     "start_time": "2024-04-13T04:42:51.722586Z"
    }
   },
   "id": "1d84cf2791bb3fa",
   "outputs": [],
   "execution_count": 8
  },
  {
   "cell_type": "code",
   "source": [
    "data.head()"
   ],
   "metadata": {
    "collapsed": false,
    "ExecuteTime": {
     "end_time": "2024-04-13T04:42:51.916053Z",
     "start_time": "2024-04-13T04:42:51.909310Z"
    }
   },
   "id": "70ba63fb8a59678d",
   "outputs": [
    {
     "data": {
      "text/plain": [
       "             id                                               text\n",
       "0  A4ADCC04C319  On a hot summer day I remembered that I have t...\n",
       "1  CC96CF4D3854  There has been a lot of dispute about the elec...\n",
       "2  8E89A7A62A82  When asking for advice is can be easier it mak...\n",
       "3  B154F5F9DADF  Cars are the most common use of transportation...\n",
       "4  FA87416EF173  do you thing stuudent would benefit from being..."
      ],
      "text/html": [
       "<div>\n",
       "<style scoped>\n",
       "    .dataframe tbody tr th:only-of-type {\n",
       "        vertical-align: middle;\n",
       "    }\n",
       "\n",
       "    .dataframe tbody tr th {\n",
       "        vertical-align: top;\n",
       "    }\n",
       "\n",
       "    .dataframe thead th {\n",
       "        text-align: right;\n",
       "    }\n",
       "</style>\n",
       "<table border=\"1\" class=\"dataframe\">\n",
       "  <thead>\n",
       "    <tr style=\"text-align: right;\">\n",
       "      <th></th>\n",
       "      <th>id</th>\n",
       "      <th>text</th>\n",
       "    </tr>\n",
       "  </thead>\n",
       "  <tbody>\n",
       "    <tr>\n",
       "      <th>0</th>\n",
       "      <td>A4ADCC04C319</td>\n",
       "      <td>On a hot summer day I remembered that I have t...</td>\n",
       "    </tr>\n",
       "    <tr>\n",
       "      <th>1</th>\n",
       "      <td>CC96CF4D3854</td>\n",
       "      <td>There has been a lot of dispute about the elec...</td>\n",
       "    </tr>\n",
       "    <tr>\n",
       "      <th>2</th>\n",
       "      <td>8E89A7A62A82</td>\n",
       "      <td>When asking for advice is can be easier it mak...</td>\n",
       "    </tr>\n",
       "    <tr>\n",
       "      <th>3</th>\n",
       "      <td>B154F5F9DADF</td>\n",
       "      <td>Cars are the most common use of transportation...</td>\n",
       "    </tr>\n",
       "    <tr>\n",
       "      <th>4</th>\n",
       "      <td>FA87416EF173</td>\n",
       "      <td>do you thing stuudent would benefit from being...</td>\n",
       "    </tr>\n",
       "  </tbody>\n",
       "</table>\n",
       "</div>"
      ]
     },
     "execution_count": 9,
     "metadata": {},
     "output_type": "execute_result"
    }
   ],
   "execution_count": 9
  },
  {
   "cell_type": "markdown",
   "source": [
    "# Embedding the Documents\n",
    "\n",
    "We will embed the documents using OpenAI's API using the `text-embedding-3-small` model."
   ],
   "metadata": {
    "collapsed": false
   },
   "id": "85965448aa118dfc"
  },
  {
   "cell_type": "code",
   "source": [
    "embeddings = embed_documents(data['text'], openai_client, EMBEDDING_MODEL)"
   ],
   "metadata": {
    "collapsed": false,
    "ExecuteTime": {
     "end_time": "2024-04-13T04:42:54.997308Z",
     "start_time": "2024-04-13T04:42:51.916839Z"
    }
   },
   "id": "8e75583cdcf035d",
   "outputs": [],
   "execution_count": 10
  },
  {
   "cell_type": "code",
   "source": [
    "# Checking the embedding of the first document (first 10 values)\n",
    "embeddings.data[0].embedding[:10]"
   ],
   "metadata": {
    "collapsed": false,
    "ExecuteTime": {
     "end_time": "2024-04-13T04:42:55.002170Z",
     "start_time": "2024-04-13T04:42:54.998497Z"
    }
   },
   "id": "8c63270d734b7ef8",
   "outputs": [
    {
     "data": {
      "text/plain": [
       "[0.04261812940239906,\n",
       " -0.008463268168270588,\n",
       " -0.010300256311893463,\n",
       " 0.0207317266613245,\n",
       " 0.04936250299215317,\n",
       " -0.028263378888368607,\n",
       " -0.005228856112807989,\n",
       " -0.02124345861375332,\n",
       " 0.016034284606575966,\n",
       " 0.022791776806116104]"
      ]
     },
     "execution_count": 11,
     "metadata": {},
     "output_type": "execute_result"
    }
   ],
   "execution_count": 11
  },
  {
   "cell_type": "code",
   "source": [
    "data_with_embeddings = data.copy()\n",
    "data_with_embeddings['embedding'] = embeddings.data"
   ],
   "metadata": {
    "collapsed": false,
    "ExecuteTime": {
     "end_time": "2024-04-13T04:42:55.008135Z",
     "start_time": "2024-04-13T04:42:55.003212Z"
    }
   },
   "id": "a90b755854e04103",
   "outputs": [],
   "execution_count": 12
  },
  {
   "cell_type": "code",
   "source": [
    "data_with_embeddings.head()"
   ],
   "metadata": {
    "collapsed": false,
    "ExecuteTime": {
     "end_time": "2024-04-13T04:42:55.030828Z",
     "start_time": "2024-04-13T04:42:55.009493Z"
    }
   },
   "id": "99911abd6d7def93",
   "outputs": [
    {
     "data": {
      "text/plain": [
       "             id                                               text  \\\n",
       "0  A4ADCC04C319  On a hot summer day I remembered that I have t...   \n",
       "1  CC96CF4D3854  There has been a lot of dispute about the elec...   \n",
       "2  8E89A7A62A82  When asking for advice is can be easier it mak...   \n",
       "3  B154F5F9DADF  Cars are the most common use of transportation...   \n",
       "4  FA87416EF173  do you thing stuudent would benefit from being...   \n",
       "\n",
       "                                           embedding  \n",
       "0  Embedding(embedding=[0.04261812940239906, -0.0...  \n",
       "1  Embedding(embedding=[0.018557794392108917, -1....  \n",
       "2  Embedding(embedding=[0.08663269132375717, -0.0...  \n",
       "3  Embedding(embedding=[0.01881640963256359, 0.01...  \n",
       "4  Embedding(embedding=[-0.00868830643594265, -0....  "
      ],
      "text/html": [
       "<div>\n",
       "<style scoped>\n",
       "    .dataframe tbody tr th:only-of-type {\n",
       "        vertical-align: middle;\n",
       "    }\n",
       "\n",
       "    .dataframe tbody tr th {\n",
       "        vertical-align: top;\n",
       "    }\n",
       "\n",
       "    .dataframe thead th {\n",
       "        text-align: right;\n",
       "    }\n",
       "</style>\n",
       "<table border=\"1\" class=\"dataframe\">\n",
       "  <thead>\n",
       "    <tr style=\"text-align: right;\">\n",
       "      <th></th>\n",
       "      <th>id</th>\n",
       "      <th>text</th>\n",
       "      <th>embedding</th>\n",
       "    </tr>\n",
       "  </thead>\n",
       "  <tbody>\n",
       "    <tr>\n",
       "      <th>0</th>\n",
       "      <td>A4ADCC04C319</td>\n",
       "      <td>On a hot summer day I remembered that I have t...</td>\n",
       "      <td>Embedding(embedding=[0.04261812940239906, -0.0...</td>\n",
       "    </tr>\n",
       "    <tr>\n",
       "      <th>1</th>\n",
       "      <td>CC96CF4D3854</td>\n",
       "      <td>There has been a lot of dispute about the elec...</td>\n",
       "      <td>Embedding(embedding=[0.018557794392108917, -1....</td>\n",
       "    </tr>\n",
       "    <tr>\n",
       "      <th>2</th>\n",
       "      <td>8E89A7A62A82</td>\n",
       "      <td>When asking for advice is can be easier it mak...</td>\n",
       "      <td>Embedding(embedding=[0.08663269132375717, -0.0...</td>\n",
       "    </tr>\n",
       "    <tr>\n",
       "      <th>3</th>\n",
       "      <td>B154F5F9DADF</td>\n",
       "      <td>Cars are the most common use of transportation...</td>\n",
       "      <td>Embedding(embedding=[0.01881640963256359, 0.01...</td>\n",
       "    </tr>\n",
       "    <tr>\n",
       "      <th>4</th>\n",
       "      <td>FA87416EF173</td>\n",
       "      <td>do you thing stuudent would benefit from being...</td>\n",
       "      <td>Embedding(embedding=[-0.00868830643594265, -0....</td>\n",
       "    </tr>\n",
       "  </tbody>\n",
       "</table>\n",
       "</div>"
      ]
     },
     "execution_count": 13,
     "metadata": {},
     "output_type": "execute_result"
    }
   ],
   "execution_count": 13
  },
  {
   "cell_type": "markdown",
   "source": [
    "# Indexing the Documents in Qdrant Database\n",
    "\n",
    "We will index the documents in the Qdrant database with the document embeddings and the document text as the payload."
   ],
   "metadata": {
    "collapsed": false
   },
   "id": "1954b0914ca898dc"
  },
  {
   "cell_type": "code",
   "source": [
    "# Create a list of Qdrant points from document embeddings and their text\n",
    "points = [\n",
    "    PointStruct(\n",
    "        id=idx, # Document ID (should be an integer)\n",
    "        vector=data.embedding, # Document embedding (vector)\n",
    "        payload={\"text\": text}, # Document text\n",
    "    )\n",
    "    for idx, (data, text) in enumerate(zip(data_with_embeddings['embedding'], data_with_embeddings['text']))\n",
    "]"
   ],
   "metadata": {
    "collapsed": false,
    "ExecuteTime": {
     "end_time": "2024-04-13T04:42:55.046252Z",
     "start_time": "2024-04-13T04:42:55.033699Z"
    }
   },
   "id": "29417af2136f0380",
   "outputs": [],
   "execution_count": 14
  },
  {
   "cell_type": "code",
   "source": [
    "# Create a collection with the specified vector configuration\n",
    "qdrant_client.create_collection(\n",
    "    COLLECTION_NAME, # Name of the collection\n",
    "    vectors_config=VectorParams(\n",
    "        size=1536, # Size of the embeddings by the OpenAI model\n",
    "        distance=Distance.COSINE, # Cosine similarity measure; not a distance actually\n",
    "    ),\n",
    ")\n",
    "\n",
    "qdrant_client.upsert(COLLECTION_NAME, points)"
   ],
   "metadata": {
    "collapsed": false,
    "ExecuteTime": {
     "end_time": "2024-04-13T04:42:55.062609Z",
     "start_time": "2024-04-13T04:42:55.047456Z"
    }
   },
   "id": "722f71aa8088e3e1",
   "outputs": [
    {
     "data": {
      "text/plain": [
       "UpdateResult(operation_id=0, status=<UpdateStatus.COMPLETED: 'completed'>)"
      ]
     },
     "execution_count": 15,
     "metadata": {},
     "output_type": "execute_result"
    }
   ],
   "execution_count": 15
  },
  {
   "cell_type": "markdown",
   "source": [
    "# Searching for Similar Documents\n",
    "\n",
    "Let's search for similar documents to a sample query. We will use cosine similarity and limit the search results to 3 documents with a similarity (or score) threshold of 0.1 or higher."
   ],
   "metadata": {
    "collapsed": false
   },
   "id": "90b5d75257a7cd70"
  },
  {
   "cell_type": "code",
   "source": [
    "search_results = qdrant_client.search(\n",
    "    collection_name=COLLECTION_NAME,\n",
    "    query_vector=openai_client.embeddings.create(\n",
    "        input=[\"I'm writing a document about machine learning.\"],\n",
    "        model=EMBEDDING_MODEL,\n",
    "    ).data[0].embedding,\n",
    "    limit=3,\n",
    "    score_threshold=0.1,\n",
    ")"
   ],
   "metadata": {
    "collapsed": false,
    "ExecuteTime": {
     "end_time": "2024-04-13T04:42:55.489863Z",
     "start_time": "2024-04-13T04:42:55.063520Z"
    }
   },
   "id": "f56b584055d889af",
   "outputs": [],
   "execution_count": 16
  },
  {
   "cell_type": "code",
   "source": [
    "search_results"
   ],
   "metadata": {
    "collapsed": false,
    "ExecuteTime": {
     "end_time": "2024-04-13T04:42:55.499930Z",
     "start_time": "2024-04-13T04:42:55.491551Z"
    }
   },
   "id": "88e825302389b144",
   "outputs": [
    {
     "data": {
      "text/plain": [
       "[ScoredPoint(id=28, version=0, score=0.3291600111374232, payload={'text': 'The author describes \"Making Mona Lisa Smile\" and how a new technology called the Facial Action Cording System enables compures to identify human emotions. Because the author is trying to tell us how the technology can make us feel differents emotions. In this article we can find too many differents emotions that the Mona Lise had. And how the techonology can do it too.\\n\\nFor example my first evidence that i found in this article is when said that \"Mona Lise is 83 percent happy, 9 percent disgusted, 6 percent fearful, and 2 percent angry\". So, is trying to tell us that to making Mona Lise smile can be a difficult way, because she had too many differents emotions at the same time,but nothing is impossible. But also the people trying to describe a new technology to identify humans emotion. The new technology is called FACS ( Facial Action Coding System). This is the new technolody that the author wanted to used to find the humans emotions, , and see which one of the two option that they had can be more easy or more faster to find the human emotions.\\n\\nMy other example that also i found in this article is when said that \"according to the new computers softward can recogniza emotion. The softward is the least innovation from Prof. Thomas Haung, of the Backman institute for advanced science at the University Illions.\" The author is trying to tell us to describes the new tecnology was little complicated because with he wanted to describe that technology to see if will be more easy to identify the emotions. Also in this article said that the process begings when the computer construct a 3D computer of the face, all 44 muscles in the model must move like human muscles. That why i think that describes that new techology wasn\\'t eassy because the new technology need to identify all about human.\\n\\nIn my conclution is about the computers and how Mona Lise demostration was really intended to bring a smiles to your face, while it show you just how the computers can do. If you smile when a Web ad appears to your screen , a similar somputer could regnize too. Like said Dr. Haunght he predicted that the computer could recognize when a students or another person is becoming confused or sad. And acording to the Facia Feeback theory emotion, moving ourfacaisl muscles can make us feel not only expresss motion, but also can even help us to feel like some differents emotions. '}, vector=None, shard_key=None),\n",
       " ScoredPoint(id=89, version=0, score=0.3008340937617151, payload={'text': \"In this article the author describes the Facial Action Coding System and descrbes the wide range of its usefullness and power. From this article we can see how this new technology finds emotion through a face as well as how that information looks once it's calculated. From this passage I feel that this technology is very useful and could help alot of people.\\n\\nOne of the many uses for this technology is that it has the ability to help others when they are bored or confused in a classroom. This technology can modify the lesson in order for the student to better convey the information needed. This helps students get a better understanding of the material while still learning in a way that fits that students prefrences. If this were to be in schools today I feel that it would help thoughs who may be failing not because they want to but because they aren't understanding the material.\\n\\nThis technology can also help adults as well wheather it would be for advertising ,for video game companies,or for video surgery. When it comes to advertising this technology can recognize the enjoyment or displeasure you may get out of an advertisment. Say you like it and smile, the computer may regognize this and continue to provide you with similar ads that fit what you like. As for the last two being about video games and video surgery these two can construct faces in a more exprssive way than it would without this technology.\\n\\nThis article shows just how useful this technology is and represents just how far technology has come since. This is an important resource that could help many with alot of things. As well as help teach those who are confused. And even to better advertise a product to someone. And for these reasons I feel that this technology is valuable.       \"}, vector=None, shard_key=None),\n",
       " ScoredPoint(id=73, version=0, score=0.3004835560526068, payload={'text': 'The human body is a complex network of muscles, bones, and organs to create one functioning person. These muscles, bones, and organs create diverse emotion whether it is through the face or through the body. The emotions help express themselves to others in order to relay their feelings to events or surroundings. A technology able to read a vast amount of emotions and help indicate their feelings would be incredibly beneficial to society as it would make understanding each other easier. This could help students in the long run by helping the school or instructor understand what interests them and what disinterests them by knowing their feelings to the emotions they convey.\\n\\nThe problem in schools around the country is the struggle to encapsulate a student\\'s interest and maintaining it for numerous years. A technology that can help lead students in the correct direction, from the first day they step into a school, can lead to a more productive society. As Dr. Huang puts it, \"Most human communication is nonverbal, including emotional communication,\\' notes Dr. Huang. \\'So computers need to understand that, too.\" (D\\'Alto.) If we can use this technology, we will be able to put the expressions and emotions into words and percentages. This removes the barrier of people struggling to understand each other. This technology will pave the way to a brighter and more efficient world by making people interested and happy to do what they do from the first day.\\n\\nTechnology is the way of tomorrow and will help create a better world. A technology that helps understand human emotion consistently will be the next big advancement for communication and language. A student needs to be understood in order for he or she to understand. A program that can easily make that happen in a few seconds as opposed to several years can help everyone enjoy what they do a little more.'}, vector=None, shard_key=None)]"
      ]
     },
     "execution_count": 17,
     "metadata": {},
     "output_type": "execute_result"
    }
   ],
   "execution_count": 17
  },
  {
   "cell_type": "code",
   "source": [],
   "metadata": {
    "collapsed": false,
    "ExecuteTime": {
     "end_time": "2024-04-13T04:42:55.504820Z",
     "start_time": "2024-04-13T04:42:55.502220Z"
    }
   },
   "id": "eee9a590423d6ec4",
   "outputs": [],
   "execution_count": 17
  }
 ],
 "metadata": {
  "kernelspec": {
   "display_name": "Python 3",
   "language": "python",
   "name": "python3"
  },
  "language_info": {
   "codemirror_mode": {
    "name": "ipython",
    "version": 2
   },
   "file_extension": ".py",
   "mimetype": "text/x-python",
   "name": "python",
   "nbconvert_exporter": "python",
   "pygments_lexer": "ipython2",
   "version": "2.7.6"
  }
 },
 "nbformat": 4,
 "nbformat_minor": 5
}
