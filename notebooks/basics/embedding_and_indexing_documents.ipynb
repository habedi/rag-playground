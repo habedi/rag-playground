{
 "cells": [
  {
   "cell_type": "markdown",
   "source": [
    "# Description\n",
    "\n",
    "This notebook demonstrates how to use the [OpenAI API](https://platform.openai.com) to embed documents and index them in a [Qdrant vector database](https://qdrant.tech/). We will use the `text-embedding-3-small` model from OpenAI to embed the documents and the Qdrant to index the documents, then we will search for similar documents to a sample query in the indexed documents."
   ],
   "metadata": {
    "collapsed": false
   },
   "id": "3e642b6aef1cc124"
  },
  {
   "cell_type": "markdown",
   "source": [
    "# Importing Libraries"
   ],
   "metadata": {
    "collapsed": false
   },
   "id": "df1fda966199e230"
  },
  {
   "cell_type": "code",
   "id": "initial_id",
   "metadata": {
    "collapsed": true,
    "ExecuteTime": {
     "end_time": "2024-04-12T15:51:42.459976Z",
     "start_time": "2024-04-12T15:51:41.497863Z"
    }
   },
   "source": [
    "import os\n",
    "import openai\n",
    "import qdrant_client\n",
    "\n",
    "from pathlib import Path"
   ],
   "outputs": [],
   "execution_count": 1
  },
  {
   "cell_type": "code",
   "source": [
    "from qdrant_client.http.models import PointStruct\n",
    "from qdrant_client.http.models import VectorParams, Distance"
   ],
   "metadata": {
    "collapsed": false,
    "ExecuteTime": {
     "end_time": "2024-04-12T15:51:42.463284Z",
     "start_time": "2024-04-12T15:51:42.461185Z"
    }
   },
   "id": "bb0fb0739309d3a2",
   "outputs": [],
   "execution_count": 2
  },
  {
   "cell_type": "markdown",
   "source": [
    "# Global Variables and Settings\n",
    "\n",
    "We will define the global variables and settings for the notebook here. We will use the `BASE_DATA_DIR` environment variable to get the base data directory. If the `BASE_DATA_DIR` environment variable is not set, we will use the `../data` directory as the default base data directory. We will also define the `INPUT_DATA_DIR` and `OUTPUT_DATA_DIR` variables to store the input and output data directories, respectively. We will use the `EMBEDDING_MODEL` variable to store the OpenAI embedding model name. We will use the `COLLECTION_NAME` variable to store the name of the Qdrant collection where we will index the documents. We will use the `OPENAI_SECRET_KEY_FILE` variable to store the path to the OpenAI secret key file and use the `MAX_DOCUMENTS_TO_LOAD` variable to store the maximum number of documents to load from the dataset."
   ],
   "metadata": {
    "collapsed": false
   },
   "id": "32ff4d631d61e93b"
  },
  {
   "cell_type": "code",
   "source": [
    "# Get the base data directory from an environment variable, or use '../data' as a default\n",
    "BASE_DATA_DIR = Path(os.getenv('BASE_DATA_DIR', '../../data'))\n",
    "INPUT_DATA_DIR = BASE_DATA_DIR / 'input'\n",
    "OUTPUT_DATA_DIR = BASE_DATA_DIR / 'output'\n",
    "\n",
    "EMBEDDING_MODEL = 'text-embedding-3-small'\n",
    "COLLECTION_NAME = \"my_document_collection\"\n",
    "OPENAI_SECRET_KEY_FILE = \"../../secrets/openai_api_key.json\"\n",
    "MAX_DOCUMENTS_TO_LOAD = 100"
   ],
   "metadata": {
    "collapsed": false,
    "ExecuteTime": {
     "end_time": "2024-04-12T15:51:42.466188Z",
     "start_time": "2024-04-12T15:51:42.464010Z"
    }
   },
   "id": "d2706e0d2334595e",
   "outputs": [],
   "execution_count": 3
  },
  {
   "cell_type": "code",
   "source": [
    "# Check if the OpenAI client is already loaded or not\n",
    "try:\n",
    "    openai_client\n",
    "except NameError:\n",
    "    openai_client = None"
   ],
   "metadata": {
    "collapsed": false,
    "ExecuteTime": {
     "end_time": "2024-04-12T15:51:42.468366Z",
     "start_time": "2024-04-12T15:51:42.466757Z"
    }
   },
   "id": "89f4d6f375ca7d55",
   "outputs": [],
   "execution_count": 4
  },
  {
   "cell_type": "markdown",
   "source": [
    "# Helper Functions\n",
    "\n",
    "We will define the helper functions for loading the data, getting the OpenAI API key, and embedding the documents here."
   ],
   "metadata": {
    "collapsed": false
   },
   "id": "84333f4bde905f1b"
  },
  {
   "cell_type": "code",
   "source": [
    "from src.helper_functions import load_data, get_openai_api_key, embed_documents"
   ],
   "metadata": {
    "collapsed": false,
    "ExecuteTime": {
     "end_time": "2024-04-12T15:51:42.626557Z",
     "start_time": "2024-04-12T15:51:42.469536Z"
    }
   },
   "id": "d14c24ea6830acf5",
   "outputs": [],
   "execution_count": 5
  },
  {
   "cell_type": "markdown",
   "source": [
    "# Loading the OpenAI secret key and Creating an In-Memory Qdrant Database\n",
    "\n",
    "We will load the OpenAI secret key from the `secrets/openai_api_key.json` file and create an in-memory Qdrant database to index the documents. Please make sure that the OpenAI secret key is stored in the `secrets/openai_api_key.json` file."
   ],
   "metadata": {
    "collapsed": false
   },
   "id": "28ba0812644e84d"
  },
  {
   "cell_type": "code",
   "source": [
    "# Loading the OpenAI secret key if it is not loaded already\n",
    "if openai_client is None:\n",
    "    openai_client = openai.Client(\n",
    "        api_key=get_openai_api_key(OPENAI_SECRET_KEY_FILE),\n",
    "    )"
   ],
   "metadata": {
    "collapsed": false,
    "ExecuteTime": {
     "end_time": "2024-04-12T15:51:42.648340Z",
     "start_time": "2024-04-12T15:51:42.627731Z"
    }
   },
   "id": "9d2c8e83a4e54220",
   "outputs": [],
   "execution_count": 6
  },
  {
   "cell_type": "code",
   "source": [
    "qdrant_client = qdrant_client.QdrantClient(\":memory:\")"
   ],
   "metadata": {
    "collapsed": false,
    "ExecuteTime": {
     "end_time": "2024-04-12T15:51:42.650940Z",
     "start_time": "2024-04-12T15:51:42.648996Z"
    }
   },
   "id": "4cd59b5587894359",
   "outputs": [],
   "execution_count": 7
  },
  {
   "cell_type": "markdown",
   "source": [
    "# Loading the Documents\n",
    "\n",
    "We will use the feedback-prize-2021 dataset from Kaggle as an example. To download the dataset, you can use the following command in the root directory of the project:\n",
    "\n",
    "`bash bin/download_kaggle_dataset.sh \"competition\" \"feedback-prize-2021\" \"data/input/kaggle_competitions/fp1\"`"
   ],
   "metadata": {
    "collapsed": false
   },
   "id": "27b4384fe30f92a5"
  },
  {
   "cell_type": "code",
   "source": [
    "data = load_data(INPUT_DATA_DIR / 'kaggle_competitions' / 'fp1' / 'train')[:MAX_DOCUMENTS_TO_LOAD]"
   ],
   "metadata": {
    "collapsed": false,
    "ExecuteTime": {
     "end_time": "2024-04-12T15:51:42.839726Z",
     "start_time": "2024-04-12T15:51:42.651416Z"
    }
   },
   "id": "1d84cf2791bb3fa",
   "outputs": [],
   "execution_count": 8
  },
  {
   "cell_type": "code",
   "source": [
    "data.head()"
   ],
   "metadata": {
    "collapsed": false,
    "ExecuteTime": {
     "end_time": "2024-04-12T15:51:42.884820Z",
     "start_time": "2024-04-12T15:51:42.840750Z"
    }
   },
   "id": "70ba63fb8a59678d",
   "outputs": [
    {
     "data": {
      "text/plain": [
       "             id                                               text\n",
       "0  A4ADCC04C319  On a hot summer day I remembered that I have t...\n",
       "1  CC96CF4D3854  There has been a lot of dispute about the elec...\n",
       "2  8E89A7A62A82  When asking for advice is can be easier it mak...\n",
       "3  B154F5F9DADF  Cars are the most common use of transportation...\n",
       "4  FA87416EF173  do you thing stuudent would benefit from being..."
      ],
      "text/html": [
       "<div>\n",
       "<style scoped>\n",
       "    .dataframe tbody tr th:only-of-type {\n",
       "        vertical-align: middle;\n",
       "    }\n",
       "\n",
       "    .dataframe tbody tr th {\n",
       "        vertical-align: top;\n",
       "    }\n",
       "\n",
       "    .dataframe thead th {\n",
       "        text-align: right;\n",
       "    }\n",
       "</style>\n",
       "<table border=\"1\" class=\"dataframe\">\n",
       "  <thead>\n",
       "    <tr style=\"text-align: right;\">\n",
       "      <th></th>\n",
       "      <th>id</th>\n",
       "      <th>text</th>\n",
       "    </tr>\n",
       "  </thead>\n",
       "  <tbody>\n",
       "    <tr>\n",
       "      <th>0</th>\n",
       "      <td>A4ADCC04C319</td>\n",
       "      <td>On a hot summer day I remembered that I have t...</td>\n",
       "    </tr>\n",
       "    <tr>\n",
       "      <th>1</th>\n",
       "      <td>CC96CF4D3854</td>\n",
       "      <td>There has been a lot of dispute about the elec...</td>\n",
       "    </tr>\n",
       "    <tr>\n",
       "      <th>2</th>\n",
       "      <td>8E89A7A62A82</td>\n",
       "      <td>When asking for advice is can be easier it mak...</td>\n",
       "    </tr>\n",
       "    <tr>\n",
       "      <th>3</th>\n",
       "      <td>B154F5F9DADF</td>\n",
       "      <td>Cars are the most common use of transportation...</td>\n",
       "    </tr>\n",
       "    <tr>\n",
       "      <th>4</th>\n",
       "      <td>FA87416EF173</td>\n",
       "      <td>do you thing stuudent would benefit from being...</td>\n",
       "    </tr>\n",
       "  </tbody>\n",
       "</table>\n",
       "</div>"
      ]
     },
     "execution_count": 9,
     "metadata": {},
     "output_type": "execute_result"
    }
   ],
   "execution_count": 9
  },
  {
   "cell_type": "markdown",
   "source": [
    "# Embedding the Documents\n",
    "\n",
    "We will embed the documents using OpenAI's API using the `text-embedding-3-small` model."
   ],
   "metadata": {
    "collapsed": false
   },
   "id": "85965448aa118dfc"
  },
  {
   "cell_type": "code",
   "source": [
    "embeddings = embed_documents(data['text'], openai_client, EMBEDDING_MODEL)"
   ],
   "metadata": {
    "collapsed": false,
    "ExecuteTime": {
     "end_time": "2024-04-12T15:51:45.151680Z",
     "start_time": "2024-04-12T15:51:42.885721Z"
    }
   },
   "id": "8e75583cdcf035d",
   "outputs": [],
   "execution_count": 10
  },
  {
   "cell_type": "code",
   "source": [
    "# Checking the embedding of the first document (first 10 values)\n",
    "embeddings.data[0].embedding[:10]"
   ],
   "metadata": {
    "collapsed": false,
    "ExecuteTime": {
     "end_time": "2024-04-12T15:51:45.157470Z",
     "start_time": "2024-04-12T15:51:45.152721Z"
    }
   },
   "id": "8c63270d734b7ef8",
   "outputs": [
    {
     "data": {
      "text/plain": [
       "[0.04257804900407791,\n",
       " -0.008452609181404114,\n",
       " -0.010277007706463337,\n",
       " 0.0207771435379982,\n",
       " 0.04937688633799553,\n",
       " -0.028245365247130394,\n",
       " -0.005213973578065634,\n",
       " -0.021262774243950844,\n",
       " 0.016025831922888756,\n",
       " 0.022732794284820557]"
      ]
     },
     "execution_count": 11,
     "metadata": {},
     "output_type": "execute_result"
    }
   ],
   "execution_count": 11
  },
  {
   "cell_type": "code",
   "source": [
    "data_with_embeddings = data.copy()\n",
    "data_with_embeddings['embedding'] = embeddings.data"
   ],
   "metadata": {
    "collapsed": false,
    "ExecuteTime": {
     "end_time": "2024-04-12T15:51:45.167277Z",
     "start_time": "2024-04-12T15:51:45.158768Z"
    }
   },
   "id": "a90b755854e04103",
   "outputs": [],
   "execution_count": 12
  },
  {
   "cell_type": "code",
   "source": [
    "data_with_embeddings.head()"
   ],
   "metadata": {
    "collapsed": false,
    "ExecuteTime": {
     "end_time": "2024-04-12T15:51:45.191484Z",
     "start_time": "2024-04-12T15:51:45.168358Z"
    }
   },
   "id": "99911abd6d7def93",
   "outputs": [
    {
     "data": {
      "text/plain": [
       "             id                                               text  \\\n",
       "0  A4ADCC04C319  On a hot summer day I remembered that I have t...   \n",
       "1  CC96CF4D3854  There has been a lot of dispute about the elec...   \n",
       "2  8E89A7A62A82  When asking for advice is can be easier it mak...   \n",
       "3  B154F5F9DADF  Cars are the most common use of transportation...   \n",
       "4  FA87416EF173  do you thing stuudent would benefit from being...   \n",
       "\n",
       "                                           embedding  \n",
       "0  Embedding(embedding=[0.04257804900407791, -0.0...  \n",
       "1  Embedding(embedding=[0.018557794392108917, -1....  \n",
       "2  Embedding(embedding=[0.08658095449209213, -0.0...  \n",
       "3  Embedding(embedding=[0.01881640963256359, 0.01...  \n",
       "4  Embedding(embedding=[-0.00868830643594265, -0....  "
      ],
      "text/html": [
       "<div>\n",
       "<style scoped>\n",
       "    .dataframe tbody tr th:only-of-type {\n",
       "        vertical-align: middle;\n",
       "    }\n",
       "\n",
       "    .dataframe tbody tr th {\n",
       "        vertical-align: top;\n",
       "    }\n",
       "\n",
       "    .dataframe thead th {\n",
       "        text-align: right;\n",
       "    }\n",
       "</style>\n",
       "<table border=\"1\" class=\"dataframe\">\n",
       "  <thead>\n",
       "    <tr style=\"text-align: right;\">\n",
       "      <th></th>\n",
       "      <th>id</th>\n",
       "      <th>text</th>\n",
       "      <th>embedding</th>\n",
       "    </tr>\n",
       "  </thead>\n",
       "  <tbody>\n",
       "    <tr>\n",
       "      <th>0</th>\n",
       "      <td>A4ADCC04C319</td>\n",
       "      <td>On a hot summer day I remembered that I have t...</td>\n",
       "      <td>Embedding(embedding=[0.04257804900407791, -0.0...</td>\n",
       "    </tr>\n",
       "    <tr>\n",
       "      <th>1</th>\n",
       "      <td>CC96CF4D3854</td>\n",
       "      <td>There has been a lot of dispute about the elec...</td>\n",
       "      <td>Embedding(embedding=[0.018557794392108917, -1....</td>\n",
       "    </tr>\n",
       "    <tr>\n",
       "      <th>2</th>\n",
       "      <td>8E89A7A62A82</td>\n",
       "      <td>When asking for advice is can be easier it mak...</td>\n",
       "      <td>Embedding(embedding=[0.08658095449209213, -0.0...</td>\n",
       "    </tr>\n",
       "    <tr>\n",
       "      <th>3</th>\n",
       "      <td>B154F5F9DADF</td>\n",
       "      <td>Cars are the most common use of transportation...</td>\n",
       "      <td>Embedding(embedding=[0.01881640963256359, 0.01...</td>\n",
       "    </tr>\n",
       "    <tr>\n",
       "      <th>4</th>\n",
       "      <td>FA87416EF173</td>\n",
       "      <td>do you thing stuudent would benefit from being...</td>\n",
       "      <td>Embedding(embedding=[-0.00868830643594265, -0....</td>\n",
       "    </tr>\n",
       "  </tbody>\n",
       "</table>\n",
       "</div>"
      ]
     },
     "execution_count": 13,
     "metadata": {},
     "output_type": "execute_result"
    }
   ],
   "execution_count": 13
  },
  {
   "cell_type": "markdown",
   "source": [
    "# Indexing the Documents in Qdrant Database\n",
    "\n",
    "We will index the documents in the Qdrant database with the document embeddings and the document text as the payload. We will use the cosine distance metric for the vectors and a vector size of 1536 for the embeddings."
   ],
   "metadata": {
    "collapsed": false
   },
   "id": "1954b0914ca898dc"
  },
  {
   "cell_type": "code",
   "source": [
    "# Create a list of Qdrant points from document embeddings and their text\n",
    "points = [\n",
    "    PointStruct(\n",
    "        id=idx,\n",
    "        vector=data.embedding,\n",
    "        payload={\"text\": text},\n",
    "    )\n",
    "    for idx, (data, text) in enumerate(zip(data_with_embeddings['embedding'], data_with_embeddings['text']))\n",
    "]"
   ],
   "metadata": {
    "collapsed": false,
    "ExecuteTime": {
     "end_time": "2024-04-12T15:51:45.203492Z",
     "start_time": "2024-04-12T15:51:45.193782Z"
    }
   },
   "id": "29417af2136f0380",
   "outputs": [],
   "execution_count": 14
  },
  {
   "cell_type": "code",
   "source": [
    "# Create a collection with the specified vector configuration\n",
    "qdrant_client.create_collection(\n",
    "    COLLECTION_NAME,\n",
    "    vectors_config=VectorParams(\n",
    "        size=1536,\n",
    "        distance=Distance.COSINE,\n",
    "    ),\n",
    ")\n",
    "\n",
    "qdrant_client.upsert(COLLECTION_NAME, points)"
   ],
   "metadata": {
    "collapsed": false,
    "ExecuteTime": {
     "end_time": "2024-04-12T15:51:45.220094Z",
     "start_time": "2024-04-12T15:51:45.204556Z"
    }
   },
   "id": "722f71aa8088e3e1",
   "outputs": [
    {
     "data": {
      "text/plain": [
       "UpdateResult(operation_id=0, status=<UpdateStatus.COMPLETED: 'completed'>)"
      ]
     },
     "execution_count": 15,
     "metadata": {},
     "output_type": "execute_result"
    }
   ],
   "execution_count": 15
  },
  {
   "cell_type": "markdown",
   "source": [
    "# Searching for Similar Documents\n",
    "\n",
    "Let's search for similar documents to a sample query in the indexed documents. We will use cosine similarity as the distance metric and limit the search results to 3 documents with a score threshold of 0.1 or higher."
   ],
   "metadata": {
    "collapsed": false
   },
   "id": "90b5d75257a7cd70"
  },
  {
   "cell_type": "code",
   "source": [
    "search_results = qdrant_client.search(\n",
    "    collection_name=COLLECTION_NAME,\n",
    "    query_vector=openai_client.embeddings.create(\n",
    "        input=[\"People are eating lunch at a restaurant\"],\n",
    "        model=EMBEDDING_MODEL,\n",
    "    ).data[0].embedding,\n",
    "    limit=3,\n",
    "    score_threshold=0.1,\n",
    ")"
   ],
   "metadata": {
    "collapsed": false,
    "ExecuteTime": {
     "end_time": "2024-04-12T15:51:45.746726Z",
     "start_time": "2024-04-12T15:51:45.221224Z"
    }
   },
   "id": "f56b584055d889af",
   "outputs": [],
   "execution_count": 16
  },
  {
   "cell_type": "code",
   "source": [
    "search_results"
   ],
   "metadata": {
    "collapsed": false,
    "ExecuteTime": {
     "end_time": "2024-04-12T15:51:45.768179Z",
     "start_time": "2024-04-12T15:51:45.748720Z"
    }
   },
   "id": "88e825302389b144",
   "outputs": [
    {
     "data": {
      "text/plain": [
       "[ScoredPoint(id=66, version=0, score=0.2050268693109877, payload={'text': \"Dear principle,\\n\\nHi I am STUDENT_NAME I agree with the choice that says we should be allowed to have our phones out in class during lunch and during free time. I think This because kids want to have their cell phones out any ways. We also have our cell phones out even if the rule isn't passed. Cell phones basically is what the world revolves around. Everybody and their mamas have a cell phone. This generation is all about technology.\\n\\nI know that you are probably thinking that we are going to do things that we are not supposed to be doing, but we do it anyways so why not just let us do it in the open. I personally don't see why the rule says that we can't have them out it will benefit us also. I do understand why you wouldn't let us have them out because you think that we are going to have it out during class and stuff. Well why punish us all for what a couple of people who got caught did. Why not just take the privilege away from them and not everybody? This school I know can do it. We have been trustworthy school. Think you should take this letter into consideration and let us use our cell phones during lunch and free time. And hey if it isn't a push maybe you could consider us using them all day, but i doubt that. I think it will be a helpful thing plus useful and fun at the same time!\\n\\nLove,\\n\\nSTUDENT_NAME      \"}, vector=None, shard_key=None),\n",
       " ScoredPoint(id=10, version=0, score=0.17226669588885712, payload={'text': 'Dear TEACHER_NAME,\\n\\nHave you ever been coming home from school and had a sudden emergency come up?\\n\\nOr really wanted to tell someone at a different lunch table something, even though you are not allowed to get up? These would be convenient times to be able to use our phones and possibly could help with texting in class too.\\n\\nHave your parents ever needed to contact you in a bad predicament? Sometimes accidents happen and your guardians may need to speak with you for your safety. If you will not allow students to have their phones at school they could be put in danger. There have been days I have gotten sick walking home and needed to call my mom to tell her, if I did not have my phone I could not let her know. Sometimes having a cell phone on you is better for your invulnerability or health.\\n\\nMost of my friends sit at a different table than me at lunch and there are times I need too tell them something or ask them a question. The thing with our school is you have assigned tables at lunch that you sit at with your class. On more than one occasion I have needed to speak with one of my friends that sits clear across the room from me and had no way to do so with out getting in trouble. We should be able to text at lunch at least.\\n\\nThis could, in the end, help with texting in class. If there was a time we were authorized to text freely it could get it out of our systems before we return to class. This would mean less to say or speak casually about during instruction time. I am sure many people would agree with me on this subject and this is a win-win situation. When we can have our phones could revolutionize how we learn, starting in SCHOOL_NAME.\\n\\nYour student,\\n\\nSTUDENT_NAME'}, vector=None, shard_key=None),\n",
       " ScoredPoint(id=23, version=0, score=0.13250225290034304, payload={'text': 'Dear Principal,\\n\\nThe policy that I think that policy 1 is better is because if you ban phones from school then students will just bring them anyway. If they bring them to school they will use them because they will feel like they are just breaking the rules and that they are cool. Also students don\\'t use their phones put side of class (like in the hallway) so much so they do during class.\\n\\nSome reasons that would use them during of class is because they think that they are cool of they text during class. But the reality is if they could use them during lunch and free time then they are less likely to use them during class. If they can\\'t bring them to school then they will use them even more during class. I see it every day in our school since we are not aloud to bring them people trying to hid the fact that they are texting during class, but then they get their phone taken away then they blame they teacher.\\n\\nIf you let students use their phones in the hallway then maybe their would be less fights. The reason I think that is because they would be so focused on their phones that yes they have a bigger possibly of being late but they won\\'t notice the other students as much. But the down side of that is that if they are planing it then they can text people and say \"come watch us fight\" or something like that. But if people know about the fight then maybe they can try and stop it before it happens.\\n\\nThey can maybe show a teacher and have them separate them before it happens.\\n\\nThe last part I have to say is please pick policy 1. This way the students can feel more mature because they can have their phones and don\\'t really have to hide it. We really want to use our phones during lunch and we are not aloud to and we are really tired of it. So I say policy 1, I can get a lot of students that are behind me on that one. The teachers don\\'t have to wonder if we are texting because if we are aloud to during lunch then we won\\'t during class. We can get a lot of texts in during lunch, so if we text in the hall and during lunch then we can probably wait and not text during class unless it is an emergency.\\n\\nIf you do choose policy 2 then you are going to have a lot more people that text during class and get their phones taken. If that happens then more parents are going to come and then you will have to deal with them. I know I have gotten my phone taken because it feel out of my pocket. I had it because it was the only way my mom would know when to pick me up after the football game. I was supposed to call her, but could I now? No, it had fallen out and then I didn\\'t get it back so I had to miss the game.\\n\\nSo in conclusion, policy 1 is the better choice.\\n\\nSo I really hope you will chose this one, you will get more students that like this one then policy 2.\\n\\nThank you for reading this,\\n\\nSTUDENT_NAME'}, vector=None, shard_key=None)]"
      ]
     },
     "execution_count": 17,
     "metadata": {},
     "output_type": "execute_result"
    }
   ],
   "execution_count": 17
  },
  {
   "cell_type": "code",
   "source": [],
   "metadata": {
    "collapsed": false,
    "ExecuteTime": {
     "end_time": "2024-04-12T15:51:45.780834Z",
     "start_time": "2024-04-12T15:51:45.773750Z"
    }
   },
   "id": "eee9a590423d6ec4",
   "outputs": [],
   "execution_count": 17
  }
 ],
 "metadata": {
  "kernelspec": {
   "display_name": "Python 3",
   "language": "python",
   "name": "python3"
  },
  "language_info": {
   "codemirror_mode": {
    "name": "ipython",
    "version": 2
   },
   "file_extension": ".py",
   "mimetype": "text/x-python",
   "name": "python",
   "nbconvert_exporter": "python",
   "pygments_lexer": "ipython2",
   "version": "2.7.6"
  }
 },
 "nbformat": 4,
 "nbformat_minor": 5
}
